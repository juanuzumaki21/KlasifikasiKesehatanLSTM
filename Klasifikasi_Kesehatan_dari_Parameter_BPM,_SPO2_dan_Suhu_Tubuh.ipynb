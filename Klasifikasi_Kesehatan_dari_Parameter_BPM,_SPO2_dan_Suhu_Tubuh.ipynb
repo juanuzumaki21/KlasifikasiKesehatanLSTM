{
  "nbformat": 4,
  "nbformat_minor": 0,
  "metadata": {
    "kernelspec": {
      "display_name": "Python 3",
      "language": "python",
      "name": "python3"
    },
    "language_info": {
      "codemirror_mode": {
        "name": "ipython",
        "version": 3
      },
      "file_extension": ".py",
      "mimetype": "text/x-python",
      "name": "python",
      "nbconvert_exporter": "python",
      "pygments_lexer": "ipython3",
      "version": "3.8.3"
    },
    "colab": {
      "name": "Klasifikasi Kesehatan dari Parameter BPM, SPO2 dan Suhu Tubuh.ipynb",
      "provenance": [],
      "collapsed_sections": [],
      "toc_visible": true
    }
  },
  "cells": [
    {
      "cell_type": "markdown",
      "metadata": {
        "id": "RBhzilXfAkPo"
      },
      "source": [
        "# Klasifikasi Kesehatan dari Parameter BPM, SPO2 dan Suhu Tubuh"
      ]
    },
    {
      "cell_type": "markdown",
      "metadata": {
        "id": "t-sUHO-hAkP2"
      },
      "source": [
        "## Membaca File CSV"
      ]
    },
    {
      "cell_type": "markdown",
      "metadata": {
        "id": "X9erKzHCAkP3"
      },
      "source": [
        "Termasuk menghapus kolom yang isinya NAN dan melakukan pengolahan data"
      ]
    },
    {
      "cell_type": "code",
      "metadata": {
        "colab": {
          "base_uri": "https://localhost:8080/",
          "height": 402
        },
        "id": "Nlval2pjAkP4",
        "outputId": "670d3675-5bed-4990-fa93-8f583df52006"
      },
      "source": [
        "import pandas as bacafile, numpy as konversifloat\n",
        "from sklearn.model_selection import train_test_split\n",
        "\n",
        "train_test_ratio = 0.9\n",
        "train_valid_ratio = 0.9\n",
        "\n",
        "mentah = bacafile.read_csv(\"/content/gdrive/My Drive/Data_BPM_SPO2_dan_Suhu_Tubuh.csv\",dtype=konversifloat.float64)\n",
        "## mentah[['Heartrate (BPM)','SpO2 (%)','Body Temperature (C)','Jumlah Parameter Tidak Normal']] = mentah[['Heartrate (BPM)','SpO2 (%)','Body Temperature (C)','Jumlah Parameter Tidak Normal']].apply(bacafile.to_numeric)\n",
        "mentah.drop(['Unnamed: 0'],axis=1,inplace=True)\n",
        "mentah['label']=0.0;\n",
        "## mentah = mentah[['label','Heartrate (BPM)',' SpO2 (%)','Body Temperature (C)','Jumlah Parameter Tidak Normal']]\n",
        "for _, row in mentah.iterrows():\n",
        "  row['label'] = (1 if row['Jumlah Parameter Tidak Normal']<2 else 0)\n",
        "olahmentah = mentah.rename(columns={'Heartrate (BPM)': 'Heartrate (BPM)',' SpO2 (%)': 'SpO2 (%)','Body Temperature (C)': 'Body Temperature (C)','Jumlah Parameter Tidak Normal': 'UnNormal','label': 'label'})\n",
        "olahmentah"
      ],
      "execution_count": 1,
      "outputs": [
        {
          "output_type": "execute_result",
          "data": {
            "text/html": [
              "<div>\n",
              "<style scoped>\n",
              "    .dataframe tbody tr th:only-of-type {\n",
              "        vertical-align: middle;\n",
              "    }\n",
              "\n",
              "    .dataframe tbody tr th {\n",
              "        vertical-align: top;\n",
              "    }\n",
              "\n",
              "    .dataframe thead th {\n",
              "        text-align: right;\n",
              "    }\n",
              "</style>\n",
              "<table border=\"1\" class=\"dataframe\">\n",
              "  <thead>\n",
              "    <tr style=\"text-align: right;\">\n",
              "      <th></th>\n",
              "      <th>Heartrate (BPM)</th>\n",
              "      <th>SpO2 (%)</th>\n",
              "      <th>Body Temperature (C)</th>\n",
              "      <th>UnNormal</th>\n",
              "      <th>label</th>\n",
              "    </tr>\n",
              "  </thead>\n",
              "  <tbody>\n",
              "    <tr>\n",
              "      <th>0</th>\n",
              "      <td>93.0</td>\n",
              "      <td>96.0</td>\n",
              "      <td>37.1</td>\n",
              "      <td>0.0</td>\n",
              "      <td>1.0</td>\n",
              "    </tr>\n",
              "    <tr>\n",
              "      <th>1</th>\n",
              "      <td>93.0</td>\n",
              "      <td>96.0</td>\n",
              "      <td>37.1</td>\n",
              "      <td>0.0</td>\n",
              "      <td>1.0</td>\n",
              "    </tr>\n",
              "    <tr>\n",
              "      <th>2</th>\n",
              "      <td>93.0</td>\n",
              "      <td>96.0</td>\n",
              "      <td>37.1</td>\n",
              "      <td>0.0</td>\n",
              "      <td>1.0</td>\n",
              "    </tr>\n",
              "    <tr>\n",
              "      <th>3</th>\n",
              "      <td>93.0</td>\n",
              "      <td>96.0</td>\n",
              "      <td>37.1</td>\n",
              "      <td>0.0</td>\n",
              "      <td>1.0</td>\n",
              "    </tr>\n",
              "    <tr>\n",
              "      <th>4</th>\n",
              "      <td>93.0</td>\n",
              "      <td>96.0</td>\n",
              "      <td>37.1</td>\n",
              "      <td>0.0</td>\n",
              "      <td>1.0</td>\n",
              "    </tr>\n",
              "    <tr>\n",
              "      <th>...</th>\n",
              "      <td>...</td>\n",
              "      <td>...</td>\n",
              "      <td>...</td>\n",
              "      <td>...</td>\n",
              "      <td>...</td>\n",
              "    </tr>\n",
              "    <tr>\n",
              "      <th>59996</th>\n",
              "      <td>91.0</td>\n",
              "      <td>94.0</td>\n",
              "      <td>37.7</td>\n",
              "      <td>1.0</td>\n",
              "      <td>1.0</td>\n",
              "    </tr>\n",
              "    <tr>\n",
              "      <th>59997</th>\n",
              "      <td>91.0</td>\n",
              "      <td>94.0</td>\n",
              "      <td>39.1</td>\n",
              "      <td>1.0</td>\n",
              "      <td>1.0</td>\n",
              "    </tr>\n",
              "    <tr>\n",
              "      <th>59998</th>\n",
              "      <td>91.0</td>\n",
              "      <td>94.0</td>\n",
              "      <td>39.1</td>\n",
              "      <td>1.0</td>\n",
              "      <td>1.0</td>\n",
              "    </tr>\n",
              "    <tr>\n",
              "      <th>59999</th>\n",
              "      <td>91.0</td>\n",
              "      <td>94.0</td>\n",
              "      <td>38.5</td>\n",
              "      <td>1.0</td>\n",
              "      <td>1.0</td>\n",
              "    </tr>\n",
              "    <tr>\n",
              "      <th>60000</th>\n",
              "      <td>90.0</td>\n",
              "      <td>94.0</td>\n",
              "      <td>37.6</td>\n",
              "      <td>1.0</td>\n",
              "      <td>1.0</td>\n",
              "    </tr>\n",
              "  </tbody>\n",
              "</table>\n",
              "<p>60001 rows × 5 columns</p>\n",
              "</div>"
            ],
            "text/plain": [
              "       Heartrate (BPM)  SpO2 (%)  Body Temperature (C)  UnNormal  label\n",
              "0                 93.0      96.0                  37.1       0.0    1.0\n",
              "1                 93.0      96.0                  37.1       0.0    1.0\n",
              "2                 93.0      96.0                  37.1       0.0    1.0\n",
              "3                 93.0      96.0                  37.1       0.0    1.0\n",
              "4                 93.0      96.0                  37.1       0.0    1.0\n",
              "...                ...       ...                   ...       ...    ...\n",
              "59996             91.0      94.0                  37.7       1.0    1.0\n",
              "59997             91.0      94.0                  39.1       1.0    1.0\n",
              "59998             91.0      94.0                  39.1       1.0    1.0\n",
              "59999             91.0      94.0                  38.5       1.0    1.0\n",
              "60000             90.0      94.0                  37.6       1.0    1.0\n",
              "\n",
              "[60001 rows x 5 columns]"
            ]
          },
          "metadata": {
            "tags": []
          },
          "execution_count": 1
        }
      ]
    },
    {
      "cell_type": "markdown",
      "metadata": {
        "id": "n0aCcXvZAkP8"
      },
      "source": [
        "## Pembagian Data untuk Testing, Training dan Validasi"
      ]
    },
    {
      "cell_type": "code",
      "metadata": {
        "id": "s3-oMtBUAkP9"
      },
      "source": [
        "df_normal = olahmentah[olahmentah['label'] == 1]\n",
        "df_unnormal = olahmentah[olahmentah['label'] == 0]\n",
        "\n",
        "# Train-test split\n",
        "df_normal_full_train, df_normal_test = train_test_split(df_normal, train_size = train_test_ratio, random_state = 1)\n",
        "df_unnormal_full_train, df_unnormal_test = train_test_split(df_unnormal, train_size = train_test_ratio, random_state = 1)\n",
        "\n",
        "# Train-valid split\n",
        "df_normal_train, df_normal_valid = train_test_split(df_normal_full_train, train_size = train_valid_ratio, random_state = 1)\n",
        "df_unnormal_train, df_unnormal_valid = train_test_split(df_unnormal_full_train, train_size = train_valid_ratio, random_state = 1)\n",
        "\n",
        "# Concatenate splits of different labels\n",
        "df_train = bacafile.concat([df_normal_train, df_unnormal_train], ignore_index=True, sort=False)\n",
        "df_valid = bacafile.concat([df_normal_valid, df_unnormal_valid], ignore_index=True, sort=False)\n",
        "df_test = bacafile.concat([df_normal_test, df_unnormal_test], ignore_index=True, sort=False)\n",
        "\n",
        "# Write preprocessed data\n",
        "df_train.to_csv('/content/gdrive/My Drive/BPM_SPO2_Body_Temperature/train.csv', index=False)\n",
        "df_valid.to_csv('/content/gdrive/My Drive/BPM_SPO2_Body_Temperature/valid.csv', index=False)\n",
        "df_test.to_csv('/content/gdrive/My Drive/BPM_SPO2_Body_Temperature/test.csv', index=False)"
      ],
      "execution_count": 2,
      "outputs": []
    },
    {
      "cell_type": "markdown",
      "metadata": {
        "id": "yKSjGQmZAkP-"
      },
      "source": [
        "# (Prediksi) Klasifikasi dengan LSTM"
      ]
    },
    {
      "cell_type": "markdown",
      "metadata": {
        "id": "21fc8XayAkP-"
      },
      "source": [
        "## Menyiapkan Library yang Diperlukan untuk Klasifikasi"
      ]
    },
    {
      "cell_type": "code",
      "metadata": {
        "id": "dHiJE7yEAkP_"
      },
      "source": [
        "# Libraries\n",
        "\n",
        "import matplotlib.pyplot as sumbuplot\n",
        "import torch\n",
        "\n",
        "# Preliminaries\n",
        "\n",
        "from torchtext.legacy.data import Field, TabularDataset, BucketIterator\n",
        "\n",
        "# Models\n",
        "\n",
        "import torch.nn as modelgraph\n",
        "from torch.nn.utils.rnn import pack_padded_sequence, pad_packed_sequence\n",
        "\n",
        "# Training\n",
        "\n",
        "import torch.optim as optimasi_algoritma\n",
        "\n",
        "# Evaluation\n",
        "\n",
        "from sklearn.metrics import accuracy_score, classification_report, confusion_matrix\n",
        "import seaborn as representasi_statistik"
      ],
      "execution_count": 3,
      "outputs": []
    },
    {
      "cell_type": "markdown",
      "metadata": {
        "id": "wSllYAx7AkQA"
      },
      "source": [
        "## Loading dari Dataset yang Ada untuk Testing, Training dan Validasi"
      ]
    },
    {
      "cell_type": "code",
      "metadata": {
        "id": "O6FCZjr8AkQB"
      },
      "source": [
        "device = torch.device('cuda' if torch.cuda.is_available() else 'cpu')\n",
        "\n",
        "# Fields\n",
        "\n",
        "label_field = Field(sequential=False, use_vocab=False, batch_first=True, dtype=torch.float)\n",
        "text_field = Field(tokenize='spacy', lower=True, include_lengths=True, batch_first=True)\n",
        "fields = [('label', label_field), ('UnNormal', text_field)]\n",
        "\n",
        "# TabularDataset\n",
        "\n",
        "train, valid, test = TabularDataset.splits(path='/content/gdrive/My Drive/BPM_SPO2_Body_Temperature/', train='train.csv', validation='valid.csv', test='test.csv',\n",
        "                                           format='CSV', fields=fields, skip_header=True)\n",
        "\n",
        "# Iterators\n",
        "\n",
        "train_iter = BucketIterator(train, batch_size=32, sort_key=lambda x: len(x.UnNormal),\n",
        "                            device=device, sort=True, sort_within_batch=True)\n",
        "valid_iter = BucketIterator(valid, batch_size=32, sort_key=lambda x: len(x.UnNormal),\n",
        "                            device=device, sort=True, sort_within_batch=True)\n",
        "test_iter = BucketIterator(test, batch_size=32, sort_key=lambda x: len(x.UnNormal),\n",
        "                            device=device, sort=True, sort_within_batch=True)\n",
        "\n",
        "# Vocabulary\n",
        "\n",
        "text_field.build_vocab(train, min_freq=3)"
      ],
      "execution_count": 4,
      "outputs": []
    },
    {
      "cell_type": "markdown",
      "metadata": {
        "id": "06WW18MiULag"
      },
      "source": [
        "## Tahapan Pembangunan Modelling"
      ]
    },
    {
      "cell_type": "code",
      "metadata": {
        "id": "OO1yVxkSUONo"
      },
      "source": [
        "class LSTM(modelgraph.Module):\n",
        "\n",
        "    def __init__(self, dimension=128):\n",
        "        super(LSTM, self).__init__()\n",
        "\n",
        "        self.embedding = modelgraph.Embedding(len(text_field.vocab), 300)\n",
        "        self.dimension = dimension\n",
        "        self.lstm = modelgraph.LSTM(input_size=300,\n",
        "                            hidden_size=dimension,\n",
        "                            num_layers=1,\n",
        "                            batch_first=True,\n",
        "                            bidirectional=True)\n",
        "        self.drop = modelgraph.Dropout(p=0.5)\n",
        "\n",
        "        self.fc = modelgraph.Linear(2*dimension, 1)\n",
        "\n",
        "    def forward(self, text, text_len):\n",
        "\n",
        "        text_emb = self.embedding(text)\n",
        "\n",
        "        packed_input = pack_padded_sequence(text_emb, text_len, batch_first=True, enforce_sorted=False)\n",
        "        packed_output, _ = self.lstm(packed_input)\n",
        "        output, _ = pad_packed_sequence(packed_output, batch_first=True)\n",
        "\n",
        "        out_forward = output[range(len(output)), text_len - 1, :self.dimension]\n",
        "        out_reverse = output[:, 0, self.dimension:]\n",
        "        out_reduced = torch.cat((out_forward, out_reverse), 1)\n",
        "        text_fea = self.drop(out_reduced)\n",
        "\n",
        "        text_fea = self.fc(text_fea)\n",
        "        text_fea = torch.squeeze(text_fea, 1)\n",
        "        text_out = torch.sigmoid(text_fea)\n",
        "\n",
        "        return text_out"
      ],
      "execution_count": 5,
      "outputs": []
    },
    {
      "cell_type": "markdown",
      "metadata": {
        "id": "slo3CyE7VISX"
      },
      "source": [
        "## Tahapan Training"
      ]
    },
    {
      "cell_type": "markdown",
      "metadata": {
        "id": "IDBT7QjRVJ1g"
      },
      "source": [
        "Bangun dulu fungsi checkpoint, serta save dan load dataset"
      ]
    },
    {
      "cell_type": "code",
      "metadata": {
        "id": "xeYED6_9VQIO"
      },
      "source": [
        "# Save and Load Functions\n",
        "\n",
        "def save_checkpoint(save_path, model, optimizer, valid_loss):\n",
        "\n",
        "    if save_path == None:\n",
        "        return\n",
        "    \n",
        "    state_dict = {'model_state_dict': model.state_dict(),\n",
        "                  'optimizer_state_dict': optimizer.state_dict(),\n",
        "                  'valid_loss': valid_loss}\n",
        "    \n",
        "    torch.save(state_dict, save_path)\n",
        "    print(f'Model saved to ==> {save_path}')\n",
        "\n",
        "\n",
        "def load_checkpoint(load_path, model, optimizer):\n",
        "\n",
        "    if load_path==None:\n",
        "        return\n",
        "    \n",
        "    state_dict = torch.load(load_path, map_location=device)\n",
        "    print(f'Model loaded from <== {load_path}')\n",
        "    \n",
        "    model.load_state_dict(state_dict['model_state_dict'])\n",
        "    optimizer.load_state_dict(state_dict['optimizer_state_dict'])\n",
        "    \n",
        "    return state_dict['valid_loss']\n",
        "\n",
        "\n",
        "def save_metrics(save_path, train_loss_list, valid_loss_list, global_steps_list):\n",
        "\n",
        "    if save_path == None:\n",
        "        return\n",
        "    \n",
        "    state_dict = {'train_loss_list': train_loss_list,\n",
        "                  'valid_loss_list': valid_loss_list,\n",
        "                  'global_steps_list': global_steps_list}\n",
        "    \n",
        "    torch.save(state_dict, save_path)\n",
        "    print(f'Model saved to ==> {save_path}')\n",
        "\n",
        "\n",
        "def load_metrics(load_path):\n",
        "\n",
        "    if load_path==None:\n",
        "        return\n",
        "    \n",
        "    state_dict = torch.load(load_path, map_location=device)\n",
        "    print(f'Model loaded from <== {load_path}')\n",
        "    \n",
        "    return state_dict['train_loss_list'], state_dict['valid_loss_list'], state_dict['global_steps_list']"
      ],
      "execution_count": 6,
      "outputs": []
    },
    {
      "cell_type": "markdown",
      "metadata": {
        "id": "oXMapiaWVuHW"
      },
      "source": [
        "Bangun Fungsi Training dan Menjalankan Training"
      ]
    },
    {
      "cell_type": "code",
      "metadata": {
        "colab": {
          "base_uri": "https://localhost:8080/"
        },
        "id": "M6iv6DEbV3EV",
        "outputId": "1fe6ec8e-ae53-4b85-c07b-d9df31579739"
      },
      "source": [
        "# Training Function\n",
        "\n",
        "def train(model,\n",
        "          optimizer,\n",
        "          criterion = modelgraph.BCELoss(),\n",
        "          train_loader = train_iter,\n",
        "          valid_loader = valid_iter,\n",
        "          num_epochs = 5,\n",
        "          eval_every = len(train_iter) // 2,\n",
        "          file_path = '/content/gdrive/My Drive/BPM_SPO2_Body_Temperature',\n",
        "          best_valid_loss = float(\"Inf\")):\n",
        "    \n",
        "    # initialize running values\n",
        "    running_loss = 0.0\n",
        "    valid_running_loss = 0.0\n",
        "    global_step = 0\n",
        "    train_loss_list = []\n",
        "    valid_loss_list = []\n",
        "    global_steps_list = []\n",
        "\n",
        "    # training loop\n",
        "    model.train()\n",
        "    for epoch in range(num_epochs):\n",
        "        for (labels, (text, text_len)), _ in train_loader:           \n",
        "            labels = labels.to(device)\n",
        "            text = text.to(device)\n",
        "            text_len = text_len.to(device)\n",
        "            output = model(text, text_len)\n",
        "\n",
        "            loss = criterion(output, labels)\n",
        "            optimizer.zero_grad()\n",
        "            loss.backward()\n",
        "            optimizer.step()\n",
        "\n",
        "            # update running values\n",
        "            running_loss += loss.item()\n",
        "            global_step += 1\n",
        "\n",
        "            # evaluation step\n",
        "            if global_step % eval_every == 0:\n",
        "                model.eval()\n",
        "                with torch.no_grad():                    \n",
        "                  # validation loop\n",
        "                  for (labels, (text, text_len)), _ in valid_loader:\n",
        "                      labels = labels.to(device)\n",
        "                      text = text.to(device)\n",
        "                      text_len = text_len.to(device)\n",
        "                      output = model(text, text_len)\n",
        "\n",
        "                      loss = criterion(output, labels)\n",
        "                      valid_running_loss += loss.item()\n",
        "\n",
        "                # evaluation\n",
        "                average_train_loss = running_loss / eval_every\n",
        "                average_valid_loss = valid_running_loss / len(valid_loader)\n",
        "                train_loss_list.append(average_train_loss)\n",
        "                valid_loss_list.append(average_valid_loss)\n",
        "                global_steps_list.append(global_step)\n",
        "\n",
        "                # resetting running values\n",
        "                running_loss = 0.0                \n",
        "                valid_running_loss = 0.0\n",
        "                model.train()\n",
        "\n",
        "                # print progress\n",
        "                print('Epoch [{}/{}], Step [{}/{}], Train Loss: {:.4f}, Valid Loss: {:.4f}'\n",
        "                      .format(epoch+1, num_epochs, global_step, num_epochs*len(train_loader),\n",
        "                              average_train_loss, average_valid_loss))\n",
        "                \n",
        "                # checkpoint\n",
        "                if best_valid_loss > average_valid_loss:\n",
        "                    best_valid_loss = average_valid_loss\n",
        "                    save_checkpoint(file_path + '/model.pt', model, optimizer, best_valid_loss)\n",
        "                    save_metrics(file_path + '/metrics.pt', train_loss_list, valid_loss_list, global_steps_list)\n",
        "    \n",
        "    save_metrics(file_path + '/metrics.pt', train_loss_list, valid_loss_list, global_steps_list)\n",
        "    print('Finished Training!')\n",
        "\n",
        "\n",
        "model = LSTM().to(device)\n",
        "optimizer = optimasi_algoritma.Adam(model.parameters(), lr=0.001)\n",
        "\n",
        "train(model=model, optimizer=optimizer, num_epochs=10)"
      ],
      "execution_count": 7,
      "outputs": [
        {
          "output_type": "stream",
          "text": [
            "Epoch [1/10], Step [759/15190], Train Loss: -8369.9103, Valid Loss: -9100.4236\n",
            "Model saved to ==> /content/gdrive/My Drive/BPM_SPO2_Body_Temperature/model.pt\n",
            "Model saved to ==> /content/gdrive/My Drive/BPM_SPO2_Body_Temperature/metrics.pt\n",
            "Epoch [1/10], Step [1518/15190], Train Loss: -9101.6936, Valid Loss: -9125.9749\n",
            "Model saved to ==> /content/gdrive/My Drive/BPM_SPO2_Body_Temperature/model.pt\n",
            "Model saved to ==> /content/gdrive/My Drive/BPM_SPO2_Body_Temperature/metrics.pt\n",
            "Epoch [2/10], Step [2277/15190], Train Loss: -9132.6071, Valid Loss: -9125.9749\n",
            "Epoch [2/10], Step [3036/15190], Train Loss: -9119.8761, Valid Loss: -9125.9749\n",
            "Epoch [3/10], Step [3795/15190], Train Loss: -9132.6130, Valid Loss: -9125.9749\n",
            "Epoch [3/10], Step [4554/15190], Train Loss: -9120.6343, Valid Loss: -9125.9749\n",
            "Epoch [4/10], Step [5313/15190], Train Loss: -9131.8637, Valid Loss: -9125.9749\n",
            "Epoch [4/10], Step [6072/15190], Train Loss: -9121.2080, Valid Loss: -9125.9749\n",
            "Epoch [5/10], Step [6831/15190], Train Loss: -9131.5384, Valid Loss: -9125.9749\n",
            "Epoch [5/10], Step [7590/15190], Train Loss: -9121.4633, Valid Loss: -9125.9749\n",
            "Epoch [6/10], Step [8349/15190], Train Loss: -9131.2461, Valid Loss: -9125.9749\n",
            "Epoch [6/10], Step [9108/15190], Train Loss: -9122.2497, Valid Loss: -9125.9749\n",
            "Epoch [7/10], Step [9867/15190], Train Loss: -9130.6038, Valid Loss: -9125.9749\n",
            "Epoch [7/10], Step [10626/15190], Train Loss: -9122.6490, Valid Loss: -9125.9749\n",
            "Epoch [8/10], Step [11385/15190], Train Loss: -9130.1756, Valid Loss: -9125.9749\n",
            "Epoch [8/10], Step [12144/15190], Train Loss: -9123.5384, Valid Loss: -9125.9749\n",
            "Epoch [9/10], Step [12903/15190], Train Loss: -9129.3109, Valid Loss: -9125.9749\n",
            "Epoch [9/10], Step [13662/15190], Train Loss: -9124.0324, Valid Loss: -9125.9749\n",
            "Epoch [10/10], Step [14421/15190], Train Loss: -9128.8416, Valid Loss: -9125.9749\n",
            "Epoch [10/10], Step [15180/15190], Train Loss: -9124.6377, Valid Loss: -9125.9749\n",
            "Model saved to ==> /content/gdrive/My Drive/BPM_SPO2_Body_Temperature/metrics.pt\n",
            "Finished Training!\n"
          ],
          "name": "stdout"
        }
      ]
    },
    {
      "cell_type": "markdown",
      "metadata": {
        "id": "NFRtTP8h39kL"
      },
      "source": [
        "Menampilkan Hasil Training dan Validasi"
      ]
    },
    {
      "cell_type": "code",
      "metadata": {
        "colab": {
          "base_uri": "https://localhost:8080/",
          "height": 297
        },
        "id": "uCTeYhz5r9w4",
        "outputId": "4e1ca917-3e86-4109-b091-b402765ddcc5"
      },
      "source": [
        "train_loss_list, valid_loss_list, global_steps_list = load_metrics('/content/gdrive/My Drive/BPM_SPO2_Body_Temperature/metrics.pt')\n",
        "sumbuplot.plot(global_steps_list, train_loss_list, label='Train')\n",
        "sumbuplot.plot(global_steps_list, valid_loss_list, label='Valid')\n",
        "sumbuplot.xlabel('Global Steps')\n",
        "sumbuplot.ylabel('Loss')\n",
        "sumbuplot.legend()\n",
        "sumbuplot.show() "
      ],
      "execution_count": 8,
      "outputs": [
        {
          "output_type": "stream",
          "text": [
            "Model loaded from <== /content/gdrive/My Drive/BPM_SPO2_Body_Temperature/metrics.pt\n"
          ],
          "name": "stdout"
        },
        {
          "output_type": "display_data",
          "data": {
            "image/png": "[encoded data removed]",
            "text/plain": [
              "<Figure size 432x288 with 1 Axes>"
            ]
          },
          "metadata": {
            "tags": [],
            "needs_background": "light"
          }
        }
      ]
    },
    {
      "cell_type": "markdown",
      "metadata": {
        "id": "4Qjg_4FV4J47"
      },
      "source": [
        "## Tahapan Evaluasi"
      ]
    },
    {
      "cell_type": "code",
      "metadata": {
        "colab": {
          "base_uri": "https://localhost:8080/",
          "height": 670
        },
        "id": "QwZB9TDr4JYa",
        "outputId": "5a8c3853-9281-4c20-bf28-2b612d4e57b3"
      },
      "source": [
        "# Evaluation Function\n",
        "\n",
        "def evaluate(model, test_loader, version='title', threshold=0.5):\n",
        "    y_pred = []\n",
        "    y_true = []\n",
        "\n",
        "    model.eval()\n",
        "    with torch.no_grad():\n",
        "        for (labels, (text, text_len)), _ in test_loader:           \n",
        "            labels = labels.to(device)\n",
        "            text = text.to(device)\n",
        "            text_len = text_len.to(device)\n",
        "            output = model(text, text_len)\n",
        "\n",
        "            output = (output > threshold).int()\n",
        "            y_pred.extend(output.tolist())\n",
        "            y_true.extend(labels.tolist())\n",
        "    \n",
        "    print('Classification Report:')\n",
        "    print(classification_report(y_true, y_pred, labels=[1,0], digits=4))\n",
        "    \n",
        "    cm = confusion_matrix(y_true, y_pred, labels=[1,0])\n",
        "    ax= sumbuplot.subplot()\n",
        "    representasi_statistik.heatmap(cm, annot=True, ax = ax, cmap='Blues', fmt=\"d\")\n",
        "\n",
        "    ax.set_title('Confusion Matrix')\n",
        "\n",
        "    ax.set_xlabel('Predicted Labels')\n",
        "    ax.set_ylabel('True Labels')\n",
        "\n",
        "    ax.xaxis.set_ticklabels(['Normal', 'Perlu Pemeriksaan Lanjut'])\n",
        "    ax.yaxis.set_ticklabels(['Normal', 'Perlu Pemeriksaan Lanjut'])\n",
        "    \n",
        "    \n",
        "best_model = LSTM().to(device)\n",
        "optimizer = optimasi_algoritma.Adam(best_model.parameters(), lr=0.001)\n",
        "\n",
        "load_checkpoint('/content/gdrive/My Drive/BPM_SPO2_Body_Temperature/model.pt', best_model, optimizer)\n",
        "evaluate(best_model, test_iter)"
      ],
      "execution_count": 9,
      "outputs": [
        {
          "output_type": "stream",
          "text": [
            "Model loaded from <== /content/gdrive/My Drive/BPM_SPO2_Body_Temperature/model.pt\n",
            "Classification Report:\n",
            "              precision    recall  f1-score   support\n",
            "\n",
            "           1     0.0000    0.0000    0.0000       0.0\n",
            "           0     0.0000    0.0000    0.0000       0.0\n",
            "\n",
            "   micro avg     0.0000    0.0000    0.0000       0.0\n",
            "   macro avg     0.0000    0.0000    0.0000       0.0\n",
            "weighted avg     0.0000    0.0000    0.0000       0.0\n",
            "\n"
          ],
          "name": "stdout"
        },
        {
          "output_type": "stream",
          "text": [
            "/usr/local/lib/python3.7/dist-packages/sklearn/metrics/_classification.py:1272: UndefinedMetricWarning: Precision and F-score are ill-defined and being set to 0.0 in labels with no predicted samples. Use `zero_division` parameter to control this behavior.\n",
            "  _warn_prf(average, modifier, msg_start, len(result))\n",
            "/usr/local/lib/python3.7/dist-packages/sklearn/metrics/_classification.py:1272: UndefinedMetricWarning: Recall and F-score are ill-defined and being set to 0.0 in labels with no true samples. Use `zero_division` parameter to control this behavior.\n",
            "  _warn_prf(average, modifier, msg_start, len(result))\n",
            "/usr/local/lib/python3.7/dist-packages/sklearn/metrics/_classification.py:1272: UndefinedMetricWarning: Recall and F-score are ill-defined and being set to 0.0 due to no true samples. Use `zero_division` parameter to control this behavior.\n",
            "  _warn_prf(average, modifier, msg_start, len(result))\n"
          ],
          "name": "stderr"
        },
        {
          "output_type": "error",
          "ename": "ValueError",
          "evalue": "ignored",
          "traceback": [
            "\u001b[0;31m---------------------------------------------------------------------------\u001b[0m",
            "\u001b[0;31mValueError\u001b[0m                                Traceback (most recent call last)",
            "\u001b[0;32m<ipython-input-9-768c1b21a9c3>\u001b[0m in \u001b[0;36m<module>\u001b[0;34m()\u001b[0m\n\u001b[1;32m     37\u001b[0m \u001b[0;34m\u001b[0m\u001b[0m\n\u001b[1;32m     38\u001b[0m \u001b[0mload_checkpoint\u001b[0m\u001b[0;34m(\u001b[0m\u001b[0;34m'/content/gdrive/My Drive/BPM_SPO2_Body_Temperature/model.pt'\u001b[0m\u001b[0;34m,\u001b[0m \u001b[0mbest_model\u001b[0m\u001b[0;34m,\u001b[0m \u001b[0moptimizer\u001b[0m\u001b[0;34m)\u001b[0m\u001b[0;34m\u001b[0m\u001b[0;34m\u001b[0m\u001b[0m\n\u001b[0;32m---> 39\u001b[0;31m \u001b[0mevaluate\u001b[0m\u001b[0;34m(\u001b[0m\u001b[0mbest_model\u001b[0m\u001b[0;34m,\u001b[0m \u001b[0mtest_iter\u001b[0m\u001b[0;34m)\u001b[0m\u001b[0;34m\u001b[0m\u001b[0;34m\u001b[0m\u001b[0m\n\u001b[0m",
            "\u001b[0;32m<ipython-input-9-768c1b21a9c3>\u001b[0m in \u001b[0;36mevaluate\u001b[0;34m(model, test_loader, version, threshold)\u001b[0m\n\u001b[1;32m     20\u001b[0m     \u001b[0mprint\u001b[0m\u001b[0;34m(\u001b[0m\u001b[0mclassification_report\u001b[0m\u001b[0;34m(\u001b[0m\u001b[0my_true\u001b[0m\u001b[0;34m,\u001b[0m \u001b[0my_pred\u001b[0m\u001b[0;34m,\u001b[0m \u001b[0mlabels\u001b[0m\u001b[0;34m=\u001b[0m\u001b[0;34m[\u001b[0m\u001b[0;36m1\u001b[0m\u001b[0;34m,\u001b[0m\u001b[0;36m0\u001b[0m\u001b[0;34m]\u001b[0m\u001b[0;34m,\u001b[0m \u001b[0mdigits\u001b[0m\u001b[0;34m=\u001b[0m\u001b[0;36m4\u001b[0m\u001b[0;34m)\u001b[0m\u001b[0;34m)\u001b[0m\u001b[0;34m\u001b[0m\u001b[0;34m\u001b[0m\u001b[0m\n\u001b[1;32m     21\u001b[0m \u001b[0;34m\u001b[0m\u001b[0m\n\u001b[0;32m---> 22\u001b[0;31m     \u001b[0mcm\u001b[0m \u001b[0;34m=\u001b[0m \u001b[0mconfusion_matrix\u001b[0m\u001b[0;34m(\u001b[0m\u001b[0my_true\u001b[0m\u001b[0;34m,\u001b[0m \u001b[0my_pred\u001b[0m\u001b[0;34m,\u001b[0m \u001b[0mlabels\u001b[0m\u001b[0;34m=\u001b[0m\u001b[0;34m[\u001b[0m\u001b[0;36m1\u001b[0m\u001b[0;34m,\u001b[0m\u001b[0;36m0\u001b[0m\u001b[0;34m]\u001b[0m\u001b[0;34m)\u001b[0m\u001b[0;34m\u001b[0m\u001b[0;34m\u001b[0m\u001b[0m\n\u001b[0m\u001b[1;32m     23\u001b[0m     \u001b[0max\u001b[0m\u001b[0;34m=\u001b[0m \u001b[0msumbuplot\u001b[0m\u001b[0;34m.\u001b[0m\u001b[0msubplot\u001b[0m\u001b[0;34m(\u001b[0m\u001b[0;34m)\u001b[0m\u001b[0;34m\u001b[0m\u001b[0;34m\u001b[0m\u001b[0m\n\u001b[1;32m     24\u001b[0m     \u001b[0mrepresentasi_statistik\u001b[0m\u001b[0;34m.\u001b[0m\u001b[0mheatmap\u001b[0m\u001b[0;34m(\u001b[0m\u001b[0mcm\u001b[0m\u001b[0;34m,\u001b[0m \u001b[0mannot\u001b[0m\u001b[0;34m=\u001b[0m\u001b[0;32mTrue\u001b[0m\u001b[0;34m,\u001b[0m \u001b[0max\u001b[0m \u001b[0;34m=\u001b[0m \u001b[0max\u001b[0m\u001b[0;34m,\u001b[0m \u001b[0mcmap\u001b[0m\u001b[0;34m=\u001b[0m\u001b[0;34m'Blues'\u001b[0m\u001b[0;34m,\u001b[0m \u001b[0mfmt\u001b[0m\u001b[0;34m=\u001b[0m\u001b[0;34m\"d\"\u001b[0m\u001b[0;34m)\u001b[0m\u001b[0;34m\u001b[0m\u001b[0;34m\u001b[0m\u001b[0m\n",
            "\u001b[0;32m/usr/local/lib/python3.7/dist-packages/sklearn/metrics/_classification.py\u001b[0m in \u001b[0;36mconfusion_matrix\u001b[0;34m(y_true, y_pred, labels, sample_weight, normalize)\u001b[0m\n\u001b[1;32m    275\u001b[0m         \u001b[0mlabels\u001b[0m \u001b[0;34m=\u001b[0m \u001b[0mnp\u001b[0m\u001b[0;34m.\u001b[0m\u001b[0masarray\u001b[0m\u001b[0;34m(\u001b[0m\u001b[0mlabels\u001b[0m\u001b[0;34m)\u001b[0m\u001b[0;34m\u001b[0m\u001b[0;34m\u001b[0m\u001b[0m\n\u001b[1;32m    276\u001b[0m         \u001b[0;32mif\u001b[0m \u001b[0mnp\u001b[0m\u001b[0;34m.\u001b[0m\u001b[0mall\u001b[0m\u001b[0;34m(\u001b[0m\u001b[0;34m[\u001b[0m\u001b[0ml\u001b[0m \u001b[0;32mnot\u001b[0m \u001b[0;32min\u001b[0m \u001b[0my_true\u001b[0m \u001b[0;32mfor\u001b[0m \u001b[0ml\u001b[0m \u001b[0;32min\u001b[0m \u001b[0mlabels\u001b[0m\u001b[0;34m]\u001b[0m\u001b[0;34m)\u001b[0m\u001b[0;34m:\u001b[0m\u001b[0;34m\u001b[0m\u001b[0;34m\u001b[0m\u001b[0m\n\u001b[0;32m--> 277\u001b[0;31m             \u001b[0;32mraise\u001b[0m \u001b[0mValueError\u001b[0m\u001b[0;34m(\u001b[0m\u001b[0;34m\"At least one label specified must be in y_true\"\u001b[0m\u001b[0;34m)\u001b[0m\u001b[0;34m\u001b[0m\u001b[0;34m\u001b[0m\u001b[0m\n\u001b[0m\u001b[1;32m    278\u001b[0m \u001b[0;34m\u001b[0m\u001b[0m\n\u001b[1;32m    279\u001b[0m     \u001b[0;32mif\u001b[0m \u001b[0msample_weight\u001b[0m \u001b[0;32mis\u001b[0m \u001b[0;32mNone\u001b[0m\u001b[0;34m:\u001b[0m\u001b[0;34m\u001b[0m\u001b[0;34m\u001b[0m\u001b[0m\n",
            "\u001b[0;31mValueError\u001b[0m: At least one label specified must be in y_true"
          ]
        }
      ]
    },
    {
      "cell_type": "markdown",
      "metadata": {
        "id": "2Z-oqtcbrWDX"
      },
      "source": [
        "## Prediksi"
      ]
    },
    {
      "cell_type": "markdown",
      "metadata": {
        "id": "bHLgvd_BrY4T"
      },
      "source": [
        "Fungsi Prediksi"
      ]
    },
    {
      "cell_type": "code",
      "metadata": {
        "id": "Ewzrbmt8rX2v"
      },
      "source": [
        "#inference \n",
        "import spacy\n",
        "nlp = spacy.load('en')\n",
        "\n",
        "def predict(model, sentence):\n",
        "    tokenized = [tok.text for tok in nlp.tokenizer(sentence)]  #tokenize the sentence \n",
        "    indexed = [text_field.vocab.stoi[t] for t in tokenized]          #convert to integer sequence\n",
        "    length = [len(indexed)]                                    #compute no. of words\n",
        "    tensor = torch.LongTensor(indexed).to(device)              #convert to tensor\n",
        "    tensor = tensor.unsqueeze(1).T                             #reshape in form of batch,no. of words\n",
        "    length_tensor = torch.LongTensor(length)                   #convert to tensor\n",
        "    prediction = model(tensor, length_tensor)                  #prediction \n",
        "    return prediction.item()"
      ],
      "execution_count": 10,
      "outputs": []
    },
    {
      "cell_type": "code",
      "metadata": {
        "colab": {
          "base_uri": "https://localhost:8080/",
          "height": 654
        },
        "id": "goMHb1XKsZcP",
        "outputId": "98746fc8-e3cf-4f95-d5a7-3eca7206b8f6"
      },
      "source": [
        "listprediksi = mentah.rename(columns={'Heartrate (BPM)': 'Heartrate (BPM)',' SpO2 (%)': 'SpO2 (%)','Body Temperature (C)': 'Body Temperature (C)','Jumlah Parameter Tidak Normal': 'Jumlah Parameter Tidak Normal','label': 'label'})\n",
        "listprediksi['Kondisi Kesehatan'] = \"\"; listprediksi['Keadaan Jantung']=\"\"; listprediksi['Keadaan Paru-Paru']=\"\"; listprediksi['Keadaan Regulasi Tubuh']=\"\";\n",
        "nilaiprediksi = []; klasifikasi = []; heartcheck = []; lungcheck = []; bodycheck = [];\n",
        "for _, row in listprediksi.iterrows():\n",
        "  simpanprediksi = predict(best_model, \"row['Jumlah Parameter Tidak Normal']\")\n",
        "  nilaiprediksi.append(simpanprediksi)\n",
        "  if (row['Jumlah Parameter Tidak Normal'] >= 2 or (row['Heartrate (BPM)'] < 60 or row['Heartrate (BPM)'] > 100) or (row['SpO2 (%)'] < 90) or (row['Body Temperature (C)'] > 38) ): klasifikasi.append(\"Perlu Pemeriksaan Lanjut\")\n",
        "  else: klasifikasi.append(\"Kesehatan Normal\")\n",
        "  ## Jantung\n",
        "  if (row['Heartrate (BPM)'] >= 49 and row['Heartrate (BPM)'] < 60): heartcheck.append(\"Masih dalam Batas Wajar\")\n",
        "  elif (row['Heartrate (BPM)'] >= 60 and row['Heartrate (BPM)'] < 66): heartcheck.append(\"Sangat Baik\")\n",
        "  elif (row['Heartrate (BPM)'] >= 66 and row['Heartrate (BPM)'] < 75): heartcheck.append(\"Cukup Baik\")\n",
        "  elif (row['Heartrate (BPM)'] >= 75 and row['Heartrate (BPM)'] < 90): heartcheck.append(\"Perlu Diperhatikan\")\n",
        "  elif (row['Heartrate (BPM)'] >= 90 and row['Heartrate (BPM)'] < 100): heartcheck.append(\"Waspada\")\n",
        "  else: heartcheck.append(\"Perlu Pemeriksaan Lanjut\")\n",
        "  ## Paru-Paru / Kadar Oksigen Dalam Darah\n",
        "  if (row['SpO2 (%)'] >= 95 and row['SpO2 (%)'] <= 100): lungcheck.append(\"Sangat Baik\")\n",
        "  elif (row['SpO2 (%)'] >= 92 and row['SpO2 (%)'] < 95): lungcheck.append(\"Perlu Diperhatikan\")\n",
        "  elif (row['SpO2 (%)'] >= 90 and row['SpO2 (%)'] < 92): lungcheck.append(\"Waspada\")\n",
        "  else: lungcheck.append(\"Perlu Pemeriksaan / Tindak Lanjut\")\n",
        "  ## Suhu Tubuh (Keadaan Regulasi Tubuh)\n",
        "  if (row['Body Temperature (C)'] >= 35 and row['Body Temperature (C)'] < 37): bodycheck.append(\"Sangat Baik\")\n",
        "  elif (row['Body Temperature (C)'] >= 37 and row['Body Temperature (C)'] < 37.5): bodycheck.append(\"Cukup Baik\")\n",
        "  elif (row['Body Temperature (C)'] >= 37.5 and row['Body Temperature (C)'] <= 38): bodycheck.append(\"Perlu Diperhatikan\")\n",
        "  else: bodycheck.append(\"Perlu Pemeriksaan / Tindak Lanjut\")\n",
        "listprediksi['nilai prediksi'] = nilaiprediksi; listprediksi['Kondisi Kesehatan'] = klasifikasi; listprediksi['Keadaan Jantung']= heartcheck; listprediksi['Keadaan Paru-Paru']= lungcheck; listprediksi['Keadaan Regulasi Tubuh']= bodycheck;\n",
        "listprediksi"
      ],
      "execution_count": 11,
      "outputs": [
        {
          "output_type": "execute_result",
          "data": {
            "text/html": [
              "<div>\n",
              "<style scoped>\n",
              "    .dataframe tbody tr th:only-of-type {\n",
              "        vertical-align: middle;\n",
              "    }\n",
              "\n",
              "    .dataframe tbody tr th {\n",
              "        vertical-align: top;\n",
              "    }\n",
              "\n",
              "    .dataframe thead th {\n",
              "        text-align: right;\n",
              "    }\n",
              "</style>\n",
              "<table border=\"1\" class=\"dataframe\">\n",
              "  <thead>\n",
              "    <tr style=\"text-align: right;\">\n",
              "      <th></th>\n",
              "      <th>Heartrate (BPM)</th>\n",
              "      <th>SpO2 (%)</th>\n",
              "      <th>Body Temperature (C)</th>\n",
              "      <th>Jumlah Parameter Tidak Normal</th>\n",
              "      <th>label</th>\n",
              "      <th>Kondisi Kesehatan</th>\n",
              "      <th>Keadaan Jantung</th>\n",
              "      <th>Keadaan Paru-Paru</th>\n",
              "      <th>Keadaan Regulasi Tubuh</th>\n",
              "      <th>nilai prediksi</th>\n",
              "    </tr>\n",
              "  </thead>\n",
              "  <tbody>\n",
              "    <tr>\n",
              "      <th>0</th>\n",
              "      <td>93.0</td>\n",
              "      <td>96.0</td>\n",
              "      <td>37.1</td>\n",
              "      <td>0.0</td>\n",
              "      <td>1.0</td>\n",
              "      <td>Kesehatan Normal</td>\n",
              "      <td>Waspada</td>\n",
              "      <td>Sangat Baik</td>\n",
              "      <td>Cukup Baik</td>\n",
              "      <td>0.999181</td>\n",
              "    </tr>\n",
              "    <tr>\n",
              "      <th>1</th>\n",
              "      <td>93.0</td>\n",
              "      <td>96.0</td>\n",
              "      <td>37.1</td>\n",
              "      <td>0.0</td>\n",
              "      <td>1.0</td>\n",
              "      <td>Kesehatan Normal</td>\n",
              "      <td>Waspada</td>\n",
              "      <td>Sangat Baik</td>\n",
              "      <td>Cukup Baik</td>\n",
              "      <td>0.999181</td>\n",
              "    </tr>\n",
              "    <tr>\n",
              "      <th>2</th>\n",
              "      <td>93.0</td>\n",
              "      <td>96.0</td>\n",
              "      <td>37.1</td>\n",
              "      <td>0.0</td>\n",
              "      <td>1.0</td>\n",
              "      <td>Kesehatan Normal</td>\n",
              "      <td>Waspada</td>\n",
              "      <td>Sangat Baik</td>\n",
              "      <td>Cukup Baik</td>\n",
              "      <td>0.999181</td>\n",
              "    </tr>\n",
              "    <tr>\n",
              "      <th>3</th>\n",
              "      <td>93.0</td>\n",
              "      <td>96.0</td>\n",
              "      <td>37.1</td>\n",
              "      <td>0.0</td>\n",
              "      <td>1.0</td>\n",
              "      <td>Kesehatan Normal</td>\n",
              "      <td>Waspada</td>\n",
              "      <td>Sangat Baik</td>\n",
              "      <td>Cukup Baik</td>\n",
              "      <td>0.999181</td>\n",
              "    </tr>\n",
              "    <tr>\n",
              "      <th>4</th>\n",
              "      <td>93.0</td>\n",
              "      <td>96.0</td>\n",
              "      <td>37.1</td>\n",
              "      <td>0.0</td>\n",
              "      <td>1.0</td>\n",
              "      <td>Kesehatan Normal</td>\n",
              "      <td>Waspada</td>\n",
              "      <td>Sangat Baik</td>\n",
              "      <td>Cukup Baik</td>\n",
              "      <td>0.999181</td>\n",
              "    </tr>\n",
              "    <tr>\n",
              "      <th>...</th>\n",
              "      <td>...</td>\n",
              "      <td>...</td>\n",
              "      <td>...</td>\n",
              "      <td>...</td>\n",
              "      <td>...</td>\n",
              "      <td>...</td>\n",
              "      <td>...</td>\n",
              "      <td>...</td>\n",
              "      <td>...</td>\n",
              "      <td>...</td>\n",
              "    </tr>\n",
              "    <tr>\n",
              "      <th>59996</th>\n",
              "      <td>91.0</td>\n",
              "      <td>94.0</td>\n",
              "      <td>37.7</td>\n",
              "      <td>1.0</td>\n",
              "      <td>1.0</td>\n",
              "      <td>Kesehatan Normal</td>\n",
              "      <td>Waspada</td>\n",
              "      <td>Perlu Diperhatikan</td>\n",
              "      <td>Perlu Diperhatikan</td>\n",
              "      <td>0.999181</td>\n",
              "    </tr>\n",
              "    <tr>\n",
              "      <th>59997</th>\n",
              "      <td>91.0</td>\n",
              "      <td>94.0</td>\n",
              "      <td>39.1</td>\n",
              "      <td>1.0</td>\n",
              "      <td>1.0</td>\n",
              "      <td>Perlu Pemeriksaan Lanjut</td>\n",
              "      <td>Waspada</td>\n",
              "      <td>Perlu Diperhatikan</td>\n",
              "      <td>Perlu Pemeriksaan / Tindak Lanjut</td>\n",
              "      <td>0.999181</td>\n",
              "    </tr>\n",
              "    <tr>\n",
              "      <th>59998</th>\n",
              "      <td>91.0</td>\n",
              "      <td>94.0</td>\n",
              "      <td>39.1</td>\n",
              "      <td>1.0</td>\n",
              "      <td>1.0</td>\n",
              "      <td>Perlu Pemeriksaan Lanjut</td>\n",
              "      <td>Waspada</td>\n",
              "      <td>Perlu Diperhatikan</td>\n",
              "      <td>Perlu Pemeriksaan / Tindak Lanjut</td>\n",
              "      <td>0.999181</td>\n",
              "    </tr>\n",
              "    <tr>\n",
              "      <th>59999</th>\n",
              "      <td>91.0</td>\n",
              "      <td>94.0</td>\n",
              "      <td>38.5</td>\n",
              "      <td>1.0</td>\n",
              "      <td>1.0</td>\n",
              "      <td>Perlu Pemeriksaan Lanjut</td>\n",
              "      <td>Waspada</td>\n",
              "      <td>Perlu Diperhatikan</td>\n",
              "      <td>Perlu Pemeriksaan / Tindak Lanjut</td>\n",
              "      <td>0.999181</td>\n",
              "    </tr>\n",
              "    <tr>\n",
              "      <th>60000</th>\n",
              "      <td>90.0</td>\n",
              "      <td>94.0</td>\n",
              "      <td>37.6</td>\n",
              "      <td>1.0</td>\n",
              "      <td>1.0</td>\n",
              "      <td>Kesehatan Normal</td>\n",
              "      <td>Waspada</td>\n",
              "      <td>Perlu Diperhatikan</td>\n",
              "      <td>Perlu Diperhatikan</td>\n",
              "      <td>0.999181</td>\n",
              "    </tr>\n",
              "  </tbody>\n",
              "</table>\n",
              "<p>60001 rows × 10 columns</p>\n",
              "</div>"
            ],
            "text/plain": [
              "       Heartrate (BPM)  ...  nilai prediksi\n",
              "0                 93.0  ...        0.999181\n",
              "1                 93.0  ...        0.999181\n",
              "2                 93.0  ...        0.999181\n",
              "3                 93.0  ...        0.999181\n",
              "4                 93.0  ...        0.999181\n",
              "...                ...  ...             ...\n",
              "59996             91.0  ...        0.999181\n",
              "59997             91.0  ...        0.999181\n",
              "59998             91.0  ...        0.999181\n",
              "59999             91.0  ...        0.999181\n",
              "60000             90.0  ...        0.999181\n",
              "\n",
              "[60001 rows x 10 columns]"
            ]
          },
          "metadata": {
            "tags": []
          },
          "execution_count": 11
        }
      ]
    },
    {
      "cell_type": "markdown",
      "metadata": {
        "id": "P1YJ1qle6Vn5"
      },
      "source": [
        "Export ke CSV"
      ]
    },
    {
      "cell_type": "code",
      "metadata": {
        "id": "2JOP68Vo6YXc"
      },
      "source": [
        "listprediksi.to_csv(\"/content/gdrive/My Drive/BPM_SPO2_Body_Temperature/hasil_klasifikasi.csv\")"
      ],
      "execution_count": 12,
      "outputs": []
    }
  ]
}